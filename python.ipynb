{
 "cells": [
  {
   "cell_type": "markdown",
   "metadata": {},
   "source": [
    "# Pythhon code snippets\n",
    "that have been useful over and over ..."
   ]
  },
  {
   "cell_type": "markdown",
   "metadata": {},
   "source": [
    "# Display requests debugging messages to display URL"
   ]
  },
  {
   "cell_type": "code",
   "execution_count": 1,
   "metadata": {},
   "outputs": [
    {
     "name": "stderr",
     "output_type": "stream",
     "text": [
      "DEBUG:root:tap\n",
      "DEBUG:urllib3.connectionpool:Starting new HTTP connection (1): google.com:80\n",
      "DEBUG:urllib3.connectionpool:http://google.com:80 \"GET / HTTP/1.1\" 301 219\n",
      "DEBUG:urllib3.connectionpool:Starting new HTTP connection (1): www.google.com:80\n",
      "DEBUG:urllib3.connectionpool:http://www.google.com:80 \"GET / HTTP/1.1\" 200 5116\n"
     ]
    },
    {
     "name": "stdout",
     "output_type": "stream",
     "text": [
      "<Response [200]>\n",
      "<Response [200]>\n"
     ]
    }
   ],
   "source": [
    "import logging\n",
    "import requests\n",
    "logger = logging.getLogger()\n",
    "\n",
    "logger.setLevel(logging.CRITICAL) # usually set as default\n",
    "\n",
    "# set debug logging\n",
    "logger.setLevel(logging.DEBUG)\n",
    "logging.debug(\"tap\")               # this appears to be required to \"trigger\" requests to start debugging\n",
    "\n",
    "r = requests.get('http://google.com') # outputs debuging\n",
    "print(r)\n",
    "logger.setLevel(logging.CRITICAL) # usually set as default\n",
    "r = requests.get('http://google.com') # does not\n",
    "print(r)"
   ]
  }
 ],
 "metadata": {
  "kernelspec": {
   "display_name": "Python 3",
   "language": "python",
   "name": "python3"
  },
  "language_info": {
   "codemirror_mode": {
    "name": "ipython",
    "version": 3
   },
   "file_extension": ".py",
   "mimetype": "text/x-python",
   "name": "python",
   "nbconvert_exporter": "python",
   "pygments_lexer": "ipython3",
   "version": "3.7.0"
  }
 },
 "nbformat": 4,
 "nbformat_minor": 2
}
